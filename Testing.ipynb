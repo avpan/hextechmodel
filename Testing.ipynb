{
 "cells": [
  {
   "cell_type": "code",
   "execution_count": 32,
   "metadata": {
    "collapsed": true
   },
   "outputs": [],
   "source": [
    "import numpy as np\n",
    "import os.path\n",
    "from datetime import date, timedelta\n",
    "import json\n",
    "import pandas as pd\n",
    "matchNum = 1"
   ]
  },
  {
   "cell_type": "code",
   "execution_count": 37,
   "metadata": {
    "collapsed": true
   },
   "outputs": [],
   "source": [
    "def findDiffNumeric(metric, blue, red):\n",
    "    total_metric_blue = sum([item[metric] for item in blue])\n",
    "    total_metric_red = sum([item[metric] for item in red])\n",
    "    metric_diff = total_metric_blue - total_metric_red\n",
    "    return metric_diff\n",
    "\n",
    "def getTotal(metric, data):\n",
    "    total_metric = sum([item[metric] for item in data])    \n",
    "    return total_metric\n",
    "\n",
    "def findDiffBool(metric, team):\n",
    "    metric_list = [item[metric] for item in team]\n",
    "    metricTrueFalse = any(metric_list)\n",
    "    return metricTrueFalse\n"
   ]
  },
  {
   "cell_type": "code",
   "execution_count": 38,
   "metadata": {
    "collapsed": false
   },
   "outputs": [],
   "source": [
    "f = open(\"./data/real_data/match_%d.json\"%matchNum,\"r\")\n",
    "data = json.load(f)\n",
    "\n",
    "player_info = []\n",
    "for item in data['participantIdentities']:\n",
    "    playerid = int(item['participantId'])\n",
    "    name = item['player']['summonerName']\n",
    "    player_info.append((id,name))\n",
    "\n",
    "df1 = pd.DataFrame(data['participants'])\n",
    "df2 = pd.DataFrame(data['teams'])\n",
    "\n",
    "#determine basic stats of winning team\n",
    "victory_team = None\n",
    "defeat_team = None\n",
    "for i in range(2):\n",
    "    df = df2.iloc[i]\n",
    "    if df['winner']:\n",
    "        victory_team = df2.iloc[[i]]\n",
    "    else:\n",
    "        defeat_team = df2.iloc[[i]]\n",
    "\n",
    "#separate winners and losers\n",
    "winners, losers = [],[]\n",
    "for i in range(10):\n",
    "    df = df1.iloc[i]\n",
    "    playerId = df['participantId']\n",
    "    item = df['stats']\n",
    "    rank = df['highestAchievedSeasonTier']    \n",
    "    kills = item['kills']\n",
    "    deaths = item['deaths']\n",
    "    assists = item['assists']\n",
    "    gold = item['goldEarned']\n",
    "    cs = item['minionsKilled'] + item['neutralMinionsKilledTeamJungle'] + item['neutralMinionsKilledEnemyJungle'] + item['neutralMinionsKilled']\n",
    "    if item['winner']:\n",
    "        item['ID'] = playerId\n",
    "        item['rank'] = rank\n",
    "        winners.append(item)\n",
    "        #winners.append({'ID': playerId, 'rank': rank, 'kills': kills, 'deaths': deaths, 'assists': assists, 'gold':gold, 'creep_score':cs})\n",
    "    else:\n",
    "        item['ID'] = playerId\n",
    "        item['rank'] = rank\n",
    "        losers.append(item)\n",
    "        #losers.append({'ID': playerId, 'rank': rank, 'kills': kills, 'deaths': deaths, 'assists': assists, 'gold':gold, 'creep_score':cs})\n",
    "\n",
    "game_length = data['timeline']['frames'][-1]['timestamp']/1000/60 \n",
    "victory_team.reset_index(inplace=True,drop=True)\n",
    "\n",
    "if 'bans' in victory_team.columns:\n",
    "    victory_team = victory_team.drop('bans',axis=1)\n",
    "if 'bans' in defeat_team.columns:\n",
    "        defeat_team = defeat_team.drop('bans',axis=1)\n",
    "\n",
    "goldDiff = findDiffNumeric('goldEarned',winners,losers)\n",
    "goldTotal = getTotal('goldEarned',winners)\n",
    "killTotal = getTotal('kills',winners)    \n",
    "killDiff = findDiffNumeric('kills',winners,losers)\n",
    "towerDiff = victory_team.loc[0,'towerKills'] - defeat_team.loc[0,'towerKills']\n",
    "baronDiff = victory_team.loc[0,'baronKills'] - defeat_team.loc[0,'baronKills']\n",
    "dragonDiff = victory_team.loc[0,'dragonKills'] - defeat_team.loc[0,'dragonKills']\n",
    "inhibitorDiff = victory_team.loc[0,'inhibitorKills'] - defeat_team.loc[0,'inhibitorKills']\n",
    "\n",
    "victory_team.insert(victory_team.shape[1],'gameLength',game_length)\n",
    "victory_team.insert(victory_team.shape[1],'goldTotal',goldTotal)\n",
    "victory_team.insert(victory_team.shape[1],'goldDiff',goldDiff)\n",
    "victory_team.insert(victory_team.shape[1],'killTotal',killTotal)\n",
    "victory_team.insert(victory_team.shape[1],'killDiff',killDiff)\n",
    "victory_team.insert(victory_team.shape[1],'towerDiff',towerDiff)\n",
    "victory_team.insert(victory_team.shape[1],'inhibitorDiff',inhibitorDiff)\n",
    "victory_team.insert(victory_team.shape[1],'baronDiff',baronDiff)\n",
    "victory_team.insert(victory_team.shape[1],'dragonDiff',dragonDiff)\n",
    "\n",
    "goldTotal = getTotal('goldEarned',losers)\n",
    "killTotal = getTotal('kills',losers)\n",
    "killDiff = findDiffNumeric('kills', losers, winners)\n",
    "goldDiff = findDiffNumeric('goldEarned',losers,winners)    \n",
    "towerDiff = defeat_team.loc[0,'towerKills'] - victory_team.loc[0,'towerKills']\n",
    "baronDiff = defeat_team.loc[0,'baronKills'] - victory_team.loc[0,'baronKills']\n",
    "dragonDiff = defeat_team.loc[0,'dragonKills'] - victory_team.loc[0,'dragonKills']\n",
    "inhibitorDiff = defeat_team.loc[0,'inhibitorKills'] - victory_team.loc[0,'inhibitorKills']\n",
    "\n",
    "defeat_team.insert(defeat_team.shape[1],'gameLength',game_length)\n",
    "defeat_team.insert(defeat_team.shape[1],'goldTotal',goldTotal)\n",
    "defeat_team.insert(defeat_team.shape[1],'goldDiff',goldDiff)\n",
    "defeat_team.insert(defeat_team.shape[1],'killTotal',killTotal)\n",
    "defeat_team.insert(defeat_team.shape[1],'killDiff',killDiff)\n",
    "defeat_team.insert(defeat_team.shape[1],'towerDiff',towerDiff)\n",
    "defeat_team.insert(defeat_team.shape[1],'inhibitorDiff',inhibitorDiff)\n",
    "defeat_team.insert(defeat_team.shape[1],'baronDiff',baronDiff)\n",
    "defeat_team.insert(defeat_team.shape[1],'dragonDiff',dragonDiff)    \n",
    "\n",
    "        "
   ]
  },
  {
   "cell_type": "code",
   "execution_count": 40,
   "metadata": {
    "collapsed": false
   },
   "outputs": [],
   "source": [
    "match = victory_team.append(defeat_team)"
   ]
  },
  {
   "cell_type": "code",
   "execution_count": 41,
   "metadata": {
    "collapsed": false
   },
   "outputs": [
    {
     "data": {
      "text/html": [
       "<div>\n",
       "<table border=\"1\" class=\"dataframe\">\n",
       "  <thead>\n",
       "    <tr style=\"text-align: right;\">\n",
       "      <th></th>\n",
       "      <th>baronKills</th>\n",
       "      <th>dominionVictoryScore</th>\n",
       "      <th>dragonKills</th>\n",
       "      <th>firstBaron</th>\n",
       "      <th>firstBlood</th>\n",
       "      <th>firstDragon</th>\n",
       "      <th>firstInhibitor</th>\n",
       "      <th>firstRiftHerald</th>\n",
       "      <th>firstTower</th>\n",
       "      <th>inhibitorKills</th>\n",
       "      <th>...</th>\n",
       "      <th>winner</th>\n",
       "      <th>gameLength</th>\n",
       "      <th>goldTotal</th>\n",
       "      <th>goldDiff</th>\n",
       "      <th>killTotal</th>\n",
       "      <th>killDiff</th>\n",
       "      <th>towerDiff</th>\n",
       "      <th>inhibitorDiff</th>\n",
       "      <th>baronDiff</th>\n",
       "      <th>dragonDiff</th>\n",
       "    </tr>\n",
       "  </thead>\n",
       "  <tbody>\n",
       "    <tr>\n",
       "      <th>0</th>\n",
       "      <td>1</td>\n",
       "      <td>0</td>\n",
       "      <td>2</td>\n",
       "      <td>True</td>\n",
       "      <td>False</td>\n",
       "      <td>True</td>\n",
       "      <td>False</td>\n",
       "      <td>True</td>\n",
       "      <td>True</td>\n",
       "      <td>0</td>\n",
       "      <td>...</td>\n",
       "      <td>True</td>\n",
       "      <td>23</td>\n",
       "      <td>44281</td>\n",
       "      <td>8632</td>\n",
       "      <td>32</td>\n",
       "      <td>15</td>\n",
       "      <td>4</td>\n",
       "      <td>0</td>\n",
       "      <td>1</td>\n",
       "      <td>2</td>\n",
       "    </tr>\n",
       "    <tr>\n",
       "      <th>0</th>\n",
       "      <td>0</td>\n",
       "      <td>0</td>\n",
       "      <td>0</td>\n",
       "      <td>False</td>\n",
       "      <td>True</td>\n",
       "      <td>False</td>\n",
       "      <td>False</td>\n",
       "      <td>False</td>\n",
       "      <td>False</td>\n",
       "      <td>0</td>\n",
       "      <td>...</td>\n",
       "      <td>False</td>\n",
       "      <td>23</td>\n",
       "      <td>35649</td>\n",
       "      <td>-8632</td>\n",
       "      <td>17</td>\n",
       "      <td>-15</td>\n",
       "      <td>-4</td>\n",
       "      <td>0</td>\n",
       "      <td>-1</td>\n",
       "      <td>-2</td>\n",
       "    </tr>\n",
       "  </tbody>\n",
       "</table>\n",
       "<p>2 rows × 24 columns</p>\n",
       "</div>"
      ],
      "text/plain": [
       "   baronKills  dominionVictoryScore  dragonKills firstBaron firstBlood  \\\n",
       "0           1                     0            2       True      False   \n",
       "0           0                     0            0      False       True   \n",
       "\n",
       "  firstDragon firstInhibitor firstRiftHerald firstTower  inhibitorKills  \\\n",
       "0        True          False            True       True               0   \n",
       "0       False          False           False      False               0   \n",
       "\n",
       "      ...      winner  gameLength  goldTotal  goldDiff killTotal  killDiff  \\\n",
       "0     ...        True          23      44281      8632        32        15   \n",
       "0     ...       False          23      35649     -8632        17       -15   \n",
       "\n",
       "   towerDiff  inhibitorDiff  baronDiff  dragonDiff  \n",
       "0          4              0          1           2  \n",
       "0         -4              0         -1          -2  \n",
       "\n",
       "[2 rows x 24 columns]"
      ]
     },
     "execution_count": 41,
     "metadata": {},
     "output_type": "execute_result"
    }
   ],
   "source": [
    "match"
   ]
  },
  {
   "cell_type": "code",
   "execution_count": null,
   "metadata": {
    "collapsed": false
   },
   "outputs": [],
   "source": []
  },
  {
   "cell_type": "code",
   "execution_count": 163,
   "metadata": {
    "collapsed": false
   },
   "outputs": [
    {
     "name": "stdout",
     "output_type": "stream",
     "text": [
      "500\n",
      "500\n",
      "500\n",
      "500\n",
      "500\n"
     ]
    }
   ],
   "source": [
    "time = []\n",
    "df2 = pd.DataFrame(data['timeline']['frames'])\n",
    "length = df2.shape[0]\n",
    "for i in range(1):\n",
    "    df = df2.iloc[i]\n",
    "    time.append(df2['timestamp']/1000/60)\n",
    "    wgold, wcreap_score = 0\n",
    "    for item in winners:\n",
    "        ID = str(item['ID'])\n",
    "        wgold += df['participantFrames'][ID]['totalGold']\n",
    "        cs = df['participantFrames'][ID]['minionsKilled']\n",
    "        jngcs = df['participantFrames'][ID]['jungleMinionsKilled']\n",
    "        wcreep_score += (cs + jngcs)\n",
    "    lgold, lcreap_score = 0\n",
    "    for item in losers:\n",
    "        ID = str(item['ID'])\n",
    "        lgold += df['participantFrames'][ID]['totalGold']\n",
    "        cs = df['participantFrames'][ID]['minionsKilled']\n",
    "        jngcs = df['participantFrames'][ID]['jungleMinionsKilled']\n",
    "        lcreep_score += (cs + jngcs)\n",
    "    \n",
    "    "
   ]
  },
  {
   "cell_type": "code",
   "execution_count": 45,
   "metadata": {
    "collapsed": false
   },
   "outputs": [
    {
     "data": {
      "text/plain": [
       "22.383333333333333"
      ]
     },
     "execution_count": 45,
     "metadata": {},
     "output_type": "execute_result"
    }
   ],
   "source": [
    "data['matchDuration']/60.0"
   ]
  },
  {
   "cell_type": "code",
   "execution_count": 35,
   "metadata": {
    "collapsed": false
   },
   "outputs": [
    {
     "name": "stdout",
     "output_type": "stream",
     "text": [
      "processedAt\n",
      "queueType\n",
      "matchVersion\n",
      "platformId\n",
      "season\n",
      "region\n",
      "matchId\n",
      "mapId\n",
      "matchCreation\n",
      "teams\n",
      "participants\n",
      "matchMode\n",
      "extractions\n",
      "matchDuration\n",
      "timeline\n",
      "participantIdentities\n",
      "matchType\n",
      "_id\n"
     ]
    },
    {
     "data": {
      "text/plain": [
       "u'6.19.158.7741'"
      ]
     },
     "execution_count": 35,
     "metadata": {},
     "output_type": "execute_result"
    }
   ],
   "source": [
    "for item in data:\n",
    "    print item\n",
    "data['matchVersion']"
   ]
  },
  {
   "cell_type": "code",
   "execution_count": null,
   "metadata": {
    "collapsed": true
   },
   "outputs": [],
   "source": []
  }
 ],
 "metadata": {
  "anaconda-cloud": {},
  "kernelspec": {
   "display_name": "Python [Root]",
   "language": "python",
   "name": "Python [Root]"
  },
  "language_info": {
   "codemirror_mode": {
    "name": "ipython",
    "version": 2
   },
   "file_extension": ".py",
   "mimetype": "text/x-python",
   "name": "python",
   "nbconvert_exporter": "python",
   "pygments_lexer": "ipython2",
   "version": "2.7.12"
  }
 },
 "nbformat": 4,
 "nbformat_minor": 0
}
